{
  "nbformat": 4,
  "nbformat_minor": 0,
  "metadata": {
    "colab": {
      "provenance": [],
      "authorship_tag": "ABX9TyPYy8J/zqO4x7Azj7HU0ND5",
      "include_colab_link": true
    },
    "kernelspec": {
      "name": "python3",
      "display_name": "Python 3"
    },
    "language_info": {
      "name": "python"
    }
  },
  "cells": [
    {
      "cell_type": "markdown",
      "metadata": {
        "id": "view-in-github",
        "colab_type": "text"
      },
      "source": [
        "<a href=\"https://colab.research.google.com/github/scskalicky/SNAP-CL/blob/main/01_First_Colab_Notebook.ipynb\" target=\"_parent\"><img src=\"https://colab.research.google.com/assets/colab-badge.svg\" alt=\"Open In Colab\"/></a>"
      ]
    },
    {
      "cell_type": "markdown",
      "source": [
        "(This is a text cell)\n",
        "\n",
        "Use this notebook to become more familiar with text and code cells. \n"
      ],
      "metadata": {
        "id": "4jlOSCJi3wti"
      }
    },
    {
      "cell_type": "code",
      "execution_count": null,
      "metadata": {
        "id": "0k7GGwpT3qN0"
      },
      "outputs": [],
      "source": [
        "# this is a code cell\n",
        "\n",
        "# type print(\"hello world\") in this cell and then run the cell :)"
      ]
    }
  ]
}