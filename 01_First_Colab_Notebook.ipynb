{
  "nbformat": 4,
  "nbformat_minor": 0,
  "metadata": {
    "colab": {
      "provenance": [],
      "authorship_tag": "ABX9TyNSxjTSGdttRAAr+K53nRMD",
      "include_colab_link": true
    },
    "kernelspec": {
      "name": "python3",
      "display_name": "Python 3"
    },
    "language_info": {
      "name": "python"
    }
  },
  "cells": [
    {
      "cell_type": "markdown",
      "metadata": {
        "id": "view-in-github",
        "colab_type": "text"
      },
      "source": [
        "<a href=\"https://colab.research.google.com/github/scskalicky/SNAP-CL/blob/main/01_First_Colab_Notebook.ipynb\" target=\"_parent\"><img src=\"https://colab.research.google.com/assets/colab-badge.svg\" alt=\"Open In Colab\"/></a>"
      ]
    },
    {
      "cell_type": "markdown",
      "source": [
        "\n",
        "(This is a text cell)\n",
        "\n",
        "Use this notebook to become more familiar with text and code cells.\n",
        "\n",
        "\n",
        "Double click into this text cell to open it. Type some text into it \n"
      ],
      "metadata": {
        "id": "4jlOSCJi3wti"
      }
    },
    {
      "cell_type": "code",
      "execution_count": null,
      "metadata": {
        "id": "0k7GGwpT3qN0"
      },
      "outputs": [],
      "source": [
        "# this is a code cell\n",
        "\n",
        "# you can type comments in code cells preceded by \"#\"\n",
        "\n",
        "# comments will not be run as code\n",
        "\n",
        "# try clicking the play button for this cell - nothing will be output"
      ]
    },
    {
      "cell_type": "code",
      "source": [
        "# type print(\"hello world\") on a new line in this cell and then run the cell using the play button\n",
        "\n"
      ],
      "metadata": {
        "id": "TyD2IAx6jdbb"
      },
      "execution_count": null,
      "outputs": []
    }
  ]
}
