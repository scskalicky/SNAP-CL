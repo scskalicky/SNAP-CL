{
  "nbformat": 4,
  "nbformat_minor": 0,
  "metadata": {
    "colab": {
      "provenance": [],
      "toc_visible": true,
      "collapsed_sections": [],
      "authorship_tag": "ABX9TyM/WWr0ApV88MMVqwyEBXQh",
      "include_colab_link": true
    },
    "kernelspec": {
      "name": "python3",
      "display_name": "Python 3"
    },
    "language_info": {
      "name": "python"
    }
  },
  "cells": [
    {
      "cell_type": "markdown",
      "metadata": {
        "id": "view-in-github",
        "colab_type": "text"
      },
      "source": [
        "<a href=\"https://colab.research.google.com/github/scskalicky/SNAP-CL/blob/main/04_Sentiment_Analysis.ipynb\" target=\"_parent\"><img src=\"https://colab.research.google.com/assets/colab-badge.svg\" alt=\"Open In Colab\"/></a>"
      ]
    },
    {
      "cell_type": "markdown",
      "source": [
        "# **Sentiment Analysis**\n",
        "\n",
        "Sentiment analysis is one of those topics which I think can spark a lot of interest. You may have heard of it before. In its most basic form, sentiment analysis tries to measure the overall positivity and negativity from the tone of a text, with the idea that you are able to capture the opinion and/or mood of the author(s). You might also see this referred to as valence or polarity. The classic examples of sentiment analysis usually discuss how one can use sentiment analysis to detect overall negative versus positive tone in movie or product reviews.\n",
        "\n",
        "A lot of sentiment analysis libraries are rule-based, which means that the creator of the resources has spent time trying to program the best set of rules to analyse language for these features.\n",
        "\n",
        "Where does sentiment come from? In many cases the sentiment ratings are obtained from human perceptions of how positive or negative individual words are in isolation. These lexicons or wordlists will include high frequency content words (in particular adjectives, which should make sense), and store them in a manner where each word has a \"score\" indicating how positive or negative it is. These scores differ in how they are done - for instance someone could rate a word from 0 to 1, with 0 being the most negative and 1 being the most positive. Or one could use a Likert scale from 1-7, or one could gather votes for whether a word is negative or positive from a variety of people and then let the feature with the most votes \"win.\" The point is, there have been a lot of approaches to capturing these perceptions.\n",
        "\n",
        "\n"
      ],
      "metadata": {
        "id": "SsNq2_zgdQ6i"
      }
    },
    {
      "cell_type": "markdown",
      "source": [
        "## **Sentiment Analysis with VADER**\n",
        "VADER (Valence Aware Dictionary for sEntiment Reasoning) is a really cool library which was created to address shortcomings with early lexicon-based approaches to sentiment analysis. The author of VADER incorporated information from a variety of prior sentiment dictionaries, and then also thought about features such as capitalization, emoticons, non-standard words, and a variety of other ways that people actually use language.\n",
        "\n",
        "The end result is a very simple to use and much more accurate sentiment analysis library which has been incorporated into NLTK.\n",
        "\n",
        "Let's get VADER into our notebook, first we import nltk and then download the necessary resources."
      ],
      "metadata": {
        "id": "RPfZlgTUdfAD"
      }
    },
    {
      "cell_type": "code",
      "execution_count": null,
      "metadata": {
        "colab": {
          "base_uri": "https://localhost:8080/"
        },
        "id": "lMRtuQOUavZR",
        "outputId": "7259033b-c8d4-4779-f092-68a892d53d62"
      },
      "outputs": [
        {
          "output_type": "stream",
          "name": "stderr",
          "text": [
            "[nltk_data] Downloading package vader_lexicon to /root/nltk_data...\n"
          ]
        },
        {
          "output_type": "execute_result",
          "data": {
            "text/plain": [
              "True"
            ]
          },
          "metadata": {},
          "execution_count": 1
        }
      ],
      "source": [
        "# import nltk\n",
        "import nltk\n",
        "\n",
        "# download the vader lexicon\n",
        "nltk.download('vader_lexicon')"
      ]
    },
    {
      "cell_type": "markdown",
      "source": [
        "To use VADER, we initialise a version of a built-in class and save it to a variable, you can do so by running the cell below. \n"
      ],
      "metadata": {
        "id": "U6D2QowZeE_x"
      }
    },
    {
      "cell_type": "code",
      "source": [
        "# Import the vader sentiment analyzer and save to the variable `sid`\n",
        "from nltk.sentiment.vader import SentimentIntensityAnalyzer\n",
        "sid = SentimentIntensityAnalyzer()"
      ],
      "metadata": {
        "id": "lF6vyKaAeDez"
      },
      "execution_count": null,
      "outputs": []
    },
    {
      "cell_type": "markdown",
      "source": [
        "VADER takes into account various punctuation and capitalization features, which means we actually want to pass raw strings to VADER. \n",
        "\n",
        "To calculate the sentiment of a string, use the `.polarity_scores()` function from our variable, like this:\n",
        "\n",
        "\n",
        "> `sid.polarity_scores('string input')`\n",
        "\n",
        "For example:"
      ],
      "metadata": {
        "id": "lrzQj2LLecQO"
      }
    },
    {
      "cell_type": "code",
      "source": [
        "sid.polarity_scores(\"You can't beat Wellington on a good day.\")"
      ],
      "metadata": {
        "colab": {
          "base_uri": "https://localhost:8080/"
        },
        "id": "W8sjnJikes8y",
        "outputId": "2ffc61c8-7eab-49bf-e47f-b4a0866f7be1"
      },
      "execution_count": null,
      "outputs": [
        {
          "output_type": "execute_result",
          "data": {
            "text/plain": [
              "{'neg': 0.0, 'neu': 0.674, 'pos': 0.326, 'compound': 0.4404}"
            ]
          },
          "metadata": {},
          "execution_count": 4
        }
      ]
    },
    {
      "cell_type": "markdown",
      "source": [
        "## **Understanding VADER output**\n",
        "\n",
        "The output in the example above has a \"negative\" score of 0, a \"neutral\" score of .674, and a \"positive\" score of .326, suggesting the text is not negative but more neutral or positive.\n",
        "\n",
        "The value we care about is the \"compound\" which takes into account a variety of extra rules the author of VADER has incorporated into the program. You can find the scoring system [here](https://github.com/cjhutto/vaderSentiment#about-the-scoring), which says that:\n",
        "\n",
        ">>> \"The compound score is computed by summing the valence scores of each word in the lexicon, adjusted according to the rules, and then normalized to be between -1 (most extreme negative) and +1 (most extreme positive). This is the most useful metric if you want a single unidimensional measure of sentiment for a given sentence. Calling it a 'normalized, weighted composite score' is accurate.\"\n",
        "\n",
        "The following guidelines apply to the compound score:\n",
        "\n",
        "* positive sentiment: compound score >= 0.05\n",
        "* neutral sentiment: (compound score > -0.05) and (compound score < 0.05)\n",
        "* negative sentiment: compound score <= -0.05\n",
        "\n",
        "One of the cooler features of VADER is that it understands negation and some emoticons. \n"
      ],
      "metadata": {
        "id": "q2-8hR08fIlN"
      }
    },
    {
      "cell_type": "code",
      "source": [
        "# this should be positive\n",
        "sid.polarity_scores(\"I am happy!\")"
      ],
      "metadata": {
        "colab": {
          "base_uri": "https://localhost:8080/"
        },
        "id": "TM-Ll7gxiCrY",
        "outputId": "daeaaaea-59a3-40cf-aabc-c3f2047a9aa8"
      },
      "execution_count": null,
      "outputs": [
        {
          "output_type": "execute_result",
          "data": {
            "text/plain": [
              "{'neg': 0.0, 'neu': 0.2, 'pos': 0.8, 'compound': 0.6114}"
            ]
          },
          "metadata": {},
          "execution_count": 14
        }
      ]
    },
    {
      "cell_type": "code",
      "source": [
        "# this should be negative\n",
        "sid.polarity_scores(\"I am not happy!\")"
      ],
      "metadata": {
        "colab": {
          "base_uri": "https://localhost:8080/"
        },
        "id": "D15oE9rCiJo2",
        "outputId": "400debe1-1f7e-4607-ce32-b4cede5582e0"
      },
      "execution_count": null,
      "outputs": [
        {
          "output_type": "execute_result",
          "data": {
            "text/plain": [
              "{'neg': 0.622, 'neu': 0.378, 'pos': 0.0, 'compound': -0.509}"
            ]
          },
          "metadata": {},
          "execution_count": 15
        }
      ]
    },
    {
      "cell_type": "code",
      "source": [
        "# emoticons matter\n",
        "sid.polarity_scores('hi there')"
      ],
      "metadata": {
        "colab": {
          "base_uri": "https://localhost:8080/"
        },
        "id": "w3-8MaSaiSFa",
        "outputId": "6245ba0b-0217-4fd9-968a-f885c17304bb"
      },
      "execution_count": null,
      "outputs": [
        {
          "output_type": "execute_result",
          "data": {
            "text/plain": [
              "{'neg': 0.0, 'neu': 1.0, 'pos': 0.0, 'compound': 0.0}"
            ]
          },
          "metadata": {},
          "execution_count": 16
        }
      ]
    },
    {
      "cell_type": "code",
      "source": [
        "sid.polarity_scores('hi there :)')"
      ],
      "metadata": {
        "colab": {
          "base_uri": "https://localhost:8080/"
        },
        "id": "2xyZzv82iWL9",
        "outputId": "35341487-bb6d-4a57-c266-09d71e27af5f"
      },
      "execution_count": null,
      "outputs": [
        {
          "output_type": "execute_result",
          "data": {
            "text/plain": [
              "{'neg': 0.0, 'neu': 0.4, 'pos': 0.6, 'compound': 0.4588}"
            ]
          },
          "metadata": {},
          "execution_count": 17
        }
      ]
    },
    {
      "cell_type": "markdown",
      "source": [
        "## **Adding new words to VADER**\n",
        "\n",
        "You can check the sentiment scores for individual words in the VADER lexicon by looking up a word using the dictionary format (the same way we asked the frequency distribution to tell us the frequency of any one particular word). To do so, use this syntax:\n",
        "\n",
        "> `sid.lexicon['word']`\n",
        "\n",
        "For example:\n"
      ],
      "metadata": {
        "id": "QWBtTp9BgIgs"
      }
    },
    {
      "cell_type": "code",
      "source": [
        "# Look at the values of some words in VADER\n",
        "target_words = ['sad', 'happy', 'tired', 'stupid', 'smart', 'sassafrass']\n",
        "\n",
        "for word in target_words:\n",
        "  if word in sid.lexicon.keys():\n",
        "    print(f'The word {word} has a sentiment of {sid.lexicon[word]}')\n",
        "  else:\n",
        "    print(f'The word {word} is not in the VADER dictionary.')"
      ],
      "metadata": {
        "colab": {
          "base_uri": "https://localhost:8080/"
        },
        "id": "FZ_uqTXugwhE",
        "outputId": "43a08a01-ce9c-4dd9-8e71-5a633a484126"
      },
      "execution_count": null,
      "outputs": [
        {
          "output_type": "stream",
          "name": "stdout",
          "text": [
            "The word sad has a sentiment of -2.1\n",
            "The word happy has a sentiment of 2.7\n",
            "The word tired has a sentiment of -1.9\n",
            "The word stupid has a sentiment of -2.4\n",
            "The word smart has a sentiment of 1.7\n",
            "The word sassafrass is not in the VADER dictionary.\n"
          ]
        }
      ]
    },
    {
      "cell_type": "markdown",
      "source": [
        "You probably saw that one of the words was missing. Fortunately, we can update VADER with any word that we like. You simply need to add the word and sentiment score to the `.lexicon` dictionary VADER uses. You should follow the advice given by VADER's author when doing this, and also know the scores should range between -4 and 4. What this means is you can customise VADER for your own purposes. \n",
        "\n",
        "An example is provided below.\n",
        "\n",
        "This means VADER is a really nice resource you can improve for your own specific purposes :)\n",
        "\n",
        "FOr example:"
      ],
      "metadata": {
        "id": "Y-OK3LKThXf5"
      }
    },
    {
      "cell_type": "code",
      "source": [
        "# find a word not in the vader lexicon\n",
        "'blarged' in sid.lexicon.keys()"
      ],
      "metadata": {
        "colab": {
          "base_uri": "https://localhost:8080/"
        },
        "id": "HTW-r427fHrO",
        "outputId": "676913e4-a971-4f0b-c737-8de8f2906135"
      },
      "execution_count": null,
      "outputs": [
        {
          "output_type": "execute_result",
          "data": {
            "text/plain": [
              "False"
            ]
          },
          "metadata": {},
          "execution_count": 18
        }
      ]
    },
    {
      "cell_type": "code",
      "source": [
        "# there is effectively nothing to measure here, 'blarged' was probably identified as neutral because it is not in the dictionary.\n",
        "sid.polarity_scores('I really blarged that one up.')"
      ],
      "metadata": {
        "colab": {
          "base_uri": "https://localhost:8080/"
        },
        "id": "VSkE9Thfi_pI",
        "outputId": "9ffcd86f-a5c4-44b2-b64d-85be5c90bf58"
      },
      "execution_count": null,
      "outputs": [
        {
          "output_type": "execute_result",
          "data": {
            "text/plain": [
              "{'neg': 0.0, 'neu': 1.0, 'pos': 0.0, 'compound': 0.0}"
            ]
          },
          "metadata": {},
          "execution_count": 19
        }
      ]
    },
    {
      "cell_type": "code",
      "source": [
        "# let's pretend blarg is negative\n",
        "sid.lexicon['blarged'] = -4"
      ],
      "metadata": {
        "id": "0TiZF0HUjBFr"
      },
      "execution_count": null,
      "outputs": []
    },
    {
      "cell_type": "code",
      "source": [
        "# our new word is in there with a very neg rating :)\n",
        "sid.polarity_scores('I really blarged that one up.')"
      ],
      "metadata": {
        "colab": {
          "base_uri": "https://localhost:8080/"
        },
        "id": "2Lvru-g-jCl-",
        "outputId": "a4eb5442-32cb-415f-b342-ab25c7978409"
      },
      "execution_count": null,
      "outputs": [
        {
          "output_type": "execute_result",
          "data": {
            "text/plain": [
              "{'neg': 0.57, 'neu': 0.43, 'pos': 0.0, 'compound': -0.7425}"
            ]
          },
          "metadata": {},
          "execution_count": 21
        }
      ]
    },
    {
      "cell_type": "markdown",
      "source": [
        "You could even overwrite the sentiment values for existing words in the dictionary. Maybe we think the word `happy` is actually negative:\n",
        "\n"
      ],
      "metadata": {
        "id": "PiXrEiT2jK2G"
      }
    },
    {
      "cell_type": "code",
      "source": [
        "# happy is positive\n",
        "sid.polarity_scores('happy')"
      ],
      "metadata": {
        "colab": {
          "base_uri": "https://localhost:8080/"
        },
        "id": "Y1YKphTvjcat",
        "outputId": "8f745f42-28bc-449c-e1dc-d2190b8fa5c7"
      },
      "execution_count": null,
      "outputs": [
        {
          "output_type": "execute_result",
          "data": {
            "text/plain": [
              "{'neg': 0.0, 'neu': 0.0, 'pos': 1.0, 'compound': 0.5719}"
            ]
          },
          "metadata": {},
          "execution_count": 22
        }
      ]
    },
    {
      "cell_type": "code",
      "source": [
        "# let's make it negative!\n",
        "sid.lexicon['happy'] = -2"
      ],
      "metadata": {
        "id": "V_gckKtZjZxY"
      },
      "execution_count": null,
      "outputs": []
    },
    {
      "cell_type": "code",
      "source": [
        "# ultimate power over our words!!\n",
        "sid.polarity_scores('happy')"
      ],
      "metadata": {
        "colab": {
          "base_uri": "https://localhost:8080/"
        },
        "id": "3li1AdqgjihJ",
        "outputId": "8e96176f-b514-4cb6-9e79-ea0f9940ec90"
      },
      "execution_count": null,
      "outputs": [
        {
          "output_type": "execute_result",
          "data": {
            "text/plain": [
              "{'neg': 1.0, 'neu': 0.0, 'pos': 0.0, 'compound': -0.4588}"
            ]
          },
          "metadata": {},
          "execution_count": 25
        }
      ]
    },
    {
      "cell_type": "markdown",
      "source": [
        "**Your Turn**\n",
        "\n",
        "Try out the sentiment dictionary on some of your own texts."
      ],
      "metadata": {
        "id": "kqFx-4Y3mXaX"
      }
    }
  ]
}