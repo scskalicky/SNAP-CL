{
  "nbformat": 4,
  "nbformat_minor": 0,
  "metadata": {
    "colab": {
      "provenance": [],
      "authorship_tag": "ABX9TyNJN1x2TD5hHBvjqbHFslsD",
      "include_colab_link": true
    },
    "kernelspec": {
      "name": "python3",
      "display_name": "Python 3"
    },
    "language_info": {
      "name": "python"
    }
  },
  "cells": [
    {
      "cell_type": "markdown",
      "metadata": {
        "id": "view-in-github",
        "colab_type": "text"
      },
      "source": [
        "<a href=\"https://colab.research.google.com/github/scskalicky/SNAP-CL/blob/main/02_Do_Some_Python.ipynb\" target=\"_parent\"><img src=\"https://colab.research.google.com/assets/colab-badge.svg\" alt=\"Open In Colab\"/></a>"
      ]
    },
    {
      "cell_type": "markdown",
      "source": [
        "Let's jump right into it. Run the code cells below and compare the outputs. "
      ],
      "metadata": {
        "id": "QIV1aWIk7U_D"
      }
    },
    {
      "cell_type": "code",
      "execution_count": 1,
      "metadata": {
        "colab": {
          "base_uri": "https://localhost:8080/",
          "height": 35
        },
        "id": "JXdAe6hW7Rpw",
        "outputId": "5d366e1b-4414-4518-9000-0b401d94b268"
      },
      "outputs": [
        {
          "output_type": "execute_result",
          "data": {
            "text/plain": [
              "'some text is here'"
            ],
            "application/vnd.google.colaboratory.intrinsic+json": {
              "type": "string"
            }
          },
          "metadata": {},
          "execution_count": 1
        }
      ],
      "source": [
        "print('some text is here')"
      ]
    },
    {
      "cell_type": "code",
      "source": [
        "example = 'some more text is here'\n",
        "example"
      ],
      "metadata": {
        "colab": {
          "base_uri": "https://localhost:8080/",
          "height": 35
        },
        "id": "yZW-hJyl7mGm",
        "outputId": "a8e14766-ef8d-4882-e283-6c8ec960e5a3"
      },
      "execution_count": 2,
      "outputs": [
        {
          "output_type": "execute_result",
          "data": {
            "text/plain": [
              "'some more text is here'"
            ],
            "application/vnd.google.colaboratory.intrinsic+json": {
              "type": "string"
            }
          },
          "metadata": {},
          "execution_count": 2
        }
      ]
    },
    {
      "cell_type": "code",
      "source": [
        "print(example)"
      ],
      "metadata": {
        "colab": {
          "base_uri": "https://localhost:8080/"
        },
        "id": "8YwnwYJ474ZT",
        "outputId": "4ee58d86-4286-4c3c-ded0-cba123598c65"
      },
      "execution_count": 3,
      "outputs": [
        {
          "output_type": "stream",
          "name": "stdout",
          "text": [
            "some more text is here\n"
          ]
        }
      ]
    },
    {
      "cell_type": "code",
      "source": [
        "print(example + ' and here!')"
      ],
      "metadata": {
        "colab": {
          "base_uri": "https://localhost:8080/"
        },
        "id": "3I1JI8vx77c9",
        "outputId": "bc45e021-ceb9-4105-fa07-b5a21363ea1c"
      },
      "execution_count": 5,
      "outputs": [
        {
          "output_type": "stream",
          "name": "stdout",
          "text": [
            "some more text is here and here!\n"
          ]
        }
      ]
    },
    {
      "cell_type": "markdown",
      "source": [
        "**Your Turn**\n",
        "\n",
        "1. Below, create a code cell and save some text to a variable. Give your variable a descriptive name. \n",
        "\n",
        "To save text to a variable, use this syntax:\n",
        "\n",
        "> `variable_name = \"text\"`\n",
        "\n",
        "\n",
        "2. Then, in a new code cell, use the `print()` function to print the value of your variable to the console. Use this syntax:\n",
        "\n",
        "> `print(variable)`"
      ],
      "metadata": {
        "id": "D6T-0rq3UsyC"
      }
    }
  ]
}