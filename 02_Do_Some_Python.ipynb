{
  "nbformat": 4,
  "nbformat_minor": 0,
  "metadata": {
    "colab": {
      "provenance": [],
      "authorship_tag": "ABX9TyPl873HD5eWKJdaj8749qIq",
      "include_colab_link": true
    },
    "kernelspec": {
      "name": "python3",
      "display_name": "Python 3"
    },
    "language_info": {
      "name": "python"
    }
  },
  "cells": [
    {
      "cell_type": "markdown",
      "metadata": {
        "id": "view-in-github",
        "colab_type": "text"
      },
      "source": [
        "<a href=\"https://colab.research.google.com/github/scskalicky/SNAP-CL/blob/main/02_Do_Some_Python.ipynb\" target=\"_parent\"><img src=\"https://colab.research.google.com/assets/colab-badge.svg\" alt=\"Open In Colab\"/></a>"
      ]
    },
    {
      "cell_type": "markdown",
      "source": [
        "# **Assigning Variables**\n",
        "\n",
        "Let's jump right into it. Run the code cells below and compare the outputs. "
      ],
      "metadata": {
        "id": "QIV1aWIk7U_D"
      }
    },
    {
      "cell_type": "code",
      "execution_count": null,
      "metadata": {
        "id": "JXdAe6hW7Rpw"
      },
      "outputs": [],
      "source": [
        "print('some text is here')"
      ]
    },
    {
      "cell_type": "code",
      "source": [
        "example = 'some more text is here'\n",
        "example"
      ],
      "metadata": {
        "id": "yZW-hJyl7mGm"
      },
      "execution_count": null,
      "outputs": []
    },
    {
      "cell_type": "code",
      "source": [
        "print(example)"
      ],
      "metadata": {
        "id": "8YwnwYJ474ZT"
      },
      "execution_count": null,
      "outputs": []
    },
    {
      "cell_type": "code",
      "source": [
        "print(example + ' and here!')"
      ],
      "metadata": {
        "id": "3I1JI8vx77c9"
      },
      "execution_count": null,
      "outputs": []
    },
    {
      "cell_type": "markdown",
      "source": [
        "**Your Turn**\n",
        "\n",
        "1. Below, create a code cell and save some text to a variable. Give your variable a descriptive name. \n",
        "\n",
        "To save text to a variable, use this syntax:\n",
        "\n",
        "> `variable_name = \"text\"`\n",
        "\n",
        "\n",
        "2. Then, in a new code cell, use the `print()` function to print the value of your variable to the console. Use this syntax:\n",
        "\n",
        "> `print(variable)`"
      ],
      "metadata": {
        "id": "D6T-0rq3UsyC"
      }
    },
    {
      "cell_type": "markdown",
      "source": [
        "\n",
        "\n",
        "---\n",
        "\n"
      ],
      "metadata": {
        "id": "qHDB-59YLW71"
      }
    },
    {
      "cell_type": "markdown",
      "source": [
        "\n",
        "# **Strings**\n",
        "\n",
        "A string is a sequence of letters/characters. Basically, it represents text. In the cells above, we saved strings as values to our variable names. \n",
        "\n",
        "## **String delimiters**\n",
        "As you've already seen, strings must be encased in quotes, and the quotes must match:\n",
        "  - ‘ + ’ (single quotes)\n",
        "  - “ + ”  (double quotes)\n",
        "  - “‘ + ”’ (triple quotes)\n",
        "\n",
        "What happens when you don’t have matching delimiters? Run the code cells below and compare the output. "
      ],
      "metadata": {
        "id": "tUcEouAVLVv_"
      }
    },
    {
      "cell_type": "code",
      "source": [
        "print('I'm so happy to be here!')"
      ],
      "metadata": {
        "id": "I_vsfXBYMehY"
      },
      "execution_count": null,
      "outputs": []
    },
    {
      "cell_type": "code",
      "source": [
        "print(\"I'm so happy to be here\")"
      ],
      "metadata": {
        "id": "AzvGHX7QMiyh"
      },
      "execution_count": null,
      "outputs": []
    },
    {
      "cell_type": "markdown",
      "source": [
        "# **String Functions**\n",
        "\n",
        "We can use built-in functions to perform basic operations on strings. For example:\n",
        "\n",
        "> * `len(string)` = count the length of a string \n",
        "> * `string.upper()` = return a lowercase version of a string \n",
        "> * `string.lower()` = return an uppercase version of a string \n",
        "> * `string.title()` = return a title case version of a string \n",
        "> * `string.strip()` = strip all whitespace from a string \n",
        "> * `string.rstrip()` = strip all trailing whitespace from a string \n",
        "> * `string.lstrip()` = strip all leading whitespace from a string\n",
        "\n",
        "\n",
        "For example:\n",
        "\n"
      ],
      "metadata": {
        "id": "3QNH-A0SNDCy"
      }
    },
    {
      "cell_type": "code",
      "source": [
        "# Print a lower case version\n",
        "\n",
        "print('KIWI'.lower())"
      ],
      "metadata": {
        "id": "hjWw19TnOC1K",
        "outputId": "dd0f6a5a-5ff5-415d-b8d3-2c3f6be85502",
        "colab": {
          "base_uri": "https://localhost:8080/"
        }
      },
      "execution_count": 2,
      "outputs": [
        {
          "output_type": "stream",
          "name": "stdout",
          "text": [
            "kiwi\n"
          ]
        }
      ]
    },
    {
      "cell_type": "code",
      "source": [
        "# Count the length of a string\n",
        "\n",
        "len('kiwi')"
      ],
      "metadata": {
        "id": "A2OfSnUmOHfD",
        "outputId": "82f3a942-de1f-4fee-faf0-939493b7e6e7",
        "colab": {
          "base_uri": "https://localhost:8080/"
        }
      },
      "execution_count": 3,
      "outputs": [
        {
          "output_type": "execute_result",
          "data": {
            "text/plain": [
              "4"
            ]
          },
          "metadata": {},
          "execution_count": 3
        }
      ]
    },
    {
      "cell_type": "markdown",
      "source": [
        "**Your Turn**\n",
        "\n",
        "Save a string to a variable and try some of the functions listed above on your variable. Take note that `len()` requires putting the variable or string inside the brackets `(string)`, whereas the other functions require putting the variable or string first and typing the .function() afterwards."
      ],
      "metadata": {
        "id": "qGnAZVeQOZl3"
      }
    },
    {
      "cell_type": "markdown",
      "source": [
        "\n",
        "\n",
        "---\n",
        "\n"
      ],
      "metadata": {
        "id": "7y9FjK08PlOR"
      }
    },
    {
      "cell_type": "markdown",
      "source": [
        "# **Unpacking Strings**\n",
        "\n",
        "Strings might look like sentence or phrases to us, and we can understand the differences between letters, punctuation, and whitespace. But computationally these are all variably equal **characters**, and as such a string in Python will be as long as the number of characters. \n",
        "\n",
        "For example, note how the length of the following two strings is different, even though the phrase is identical. Can you see why? "
      ],
      "metadata": {
        "id": "8Krj-uj5PnVC"
      }
    },
    {
      "cell_type": "code",
      "source": [
        "# Version 1\n",
        "len('underneath it all')"
      ],
      "metadata": {
        "id": "pBcB5-ItP2Ea",
        "outputId": "20eb3395-ffdf-436b-ff66-5072d1baff31",
        "colab": {
          "base_uri": "https://localhost:8080/"
        }
      },
      "execution_count": 4,
      "outputs": [
        {
          "output_type": "execute_result",
          "data": {
            "text/plain": [
              "17"
            ]
          },
          "metadata": {},
          "execution_count": 4
        }
      ]
    },
    {
      "cell_type": "code",
      "source": [
        "# Version 2\n",
        "len('underneath it all ')"
      ],
      "metadata": {
        "id": "nBbJVqjKP4jK",
        "outputId": "7dbbf59c-7cc3-482c-e1a7-fe95aebf4186",
        "colab": {
          "base_uri": "https://localhost:8080/"
        }
      },
      "execution_count": 5,
      "outputs": [
        {
          "output_type": "execute_result",
          "data": {
            "text/plain": [
              "18"
            ]
          },
          "metadata": {},
          "execution_count": 5
        }
      ]
    }
  ]
}