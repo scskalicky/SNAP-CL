{
  "nbformat": 4,
  "nbformat_minor": 0,
  "metadata": {
    "colab": {
      "provenance": [],
      "collapsed_sections": [],
      "authorship_tag": "ABX9TyNbbhkmiVImUF1sV91vw537",
      "include_colab_link": true
    },
    "kernelspec": {
      "name": "python3",
      "display_name": "Python 3"
    },
    "language_info": {
      "name": "python"
    }
  },
  "cells": [
    {
      "cell_type": "markdown",
      "metadata": {
        "id": "view-in-github",
        "colab_type": "text"
      },
      "source": [
        "<a href=\"https://colab.research.google.com/github/scskalicky/SNAP-CL/blob/main/02_Do_Some_Python.ipynb\" target=\"_parent\"><img src=\"https://colab.research.google.com/assets/colab-badge.svg\" alt=\"Open In Colab\"/></a>"
      ]
    },
    {
      "cell_type": "markdown",
      "source": [
        "# **Assigning Variables**\n",
        "\n",
        "Let's jump right into it. Run the code cells below and compare the outputs. "
      ],
      "metadata": {
        "id": "QIV1aWIk7U_D"
      }
    },
    {
      "cell_type": "code",
      "execution_count": null,
      "metadata": {
        "id": "JXdAe6hW7Rpw",
        "colab": {
          "base_uri": "https://localhost:8080/"
        },
        "outputId": "7f9770e1-ac97-410c-ca85-95c5b7182d72"
      },
      "outputs": [
        {
          "output_type": "stream",
          "name": "stdout",
          "text": [
            "some text is here\n"
          ]
        }
      ],
      "source": [
        "print('some text is here')"
      ]
    },
    {
      "cell_type": "code",
      "source": [
        "example = 'some more text is here'\n",
        "example"
      ],
      "metadata": {
        "id": "yZW-hJyl7mGm",
        "colab": {
          "base_uri": "https://localhost:8080/",
          "height": 35
        },
        "outputId": "25f23913-8c23-4fc6-934e-9b890a9d3b7c"
      },
      "execution_count": null,
      "outputs": [
        {
          "output_type": "execute_result",
          "data": {
            "text/plain": [
              "'some more text is here'"
            ],
            "application/vnd.google.colaboratory.intrinsic+json": {
              "type": "string"
            }
          },
          "metadata": {},
          "execution_count": 7
        }
      ]
    },
    {
      "cell_type": "code",
      "source": [
        "print(example)"
      ],
      "metadata": {
        "id": "8YwnwYJ474ZT",
        "colab": {
          "base_uri": "https://localhost:8080/"
        },
        "outputId": "1647931c-fe08-49a6-a817-4255cf9621b6"
      },
      "execution_count": null,
      "outputs": [
        {
          "output_type": "stream",
          "name": "stdout",
          "text": [
            "some more text is here\n"
          ]
        }
      ]
    },
    {
      "cell_type": "code",
      "source": [
        "print(example + ' and here!')"
      ],
      "metadata": {
        "id": "3I1JI8vx77c9",
        "colab": {
          "base_uri": "https://localhost:8080/"
        },
        "outputId": "47363736-a1b1-4d4e-90c2-94b2abf2be17"
      },
      "execution_count": null,
      "outputs": [
        {
          "output_type": "stream",
          "name": "stdout",
          "text": [
            "some more text is here and here!\n"
          ]
        }
      ]
    },
    {
      "cell_type": "markdown",
      "source": [
        "**Your Turn**\n",
        "\n",
        "1. Below, create a code cell and save some text to a variable. Give your variable a descriptive name. \n",
        "\n",
        "To save text to a variable, use this syntax:\n",
        "\n",
        "> `variable_name = \"text\"`\n",
        "\n",
        "\n",
        "2. Then, in a new code cell, use the `print()` function to print the value of your variable to the console. Use this syntax:\n",
        "\n",
        "> `print(variable)`"
      ],
      "metadata": {
        "id": "D6T-0rq3UsyC"
      }
    },
    {
      "cell_type": "markdown",
      "source": [
        "\n",
        "\n",
        "---\n",
        "\n"
      ],
      "metadata": {
        "id": "qHDB-59YLW71"
      }
    },
    {
      "cell_type": "markdown",
      "source": [
        "\n",
        "# **Strings**\n",
        "\n",
        "A string is a sequence of letters/characters. Basically, it represents text. In the cells above, we saved strings as values to our variable names. \n",
        "\n",
        "## **String delimiters**\n",
        "As you've already seen, strings must be encased in quotes, and the quotes must match:\n",
        "  - ‘ + ’ (single quotes)\n",
        "  - “ + ”  (double quotes)\n",
        "  - “‘ + ”’ (triple quotes)\n",
        "\n",
        "What happens when you don’t have matching delimiters? Run the code cells below and compare the output. "
      ],
      "metadata": {
        "id": "tUcEouAVLVv_"
      }
    },
    {
      "cell_type": "code",
      "source": [
        "print('I'm so happy to be here!')"
      ],
      "metadata": {
        "colab": {
          "base_uri": "https://localhost:8080/",
          "height": 131
        },
        "id": "I_vsfXBYMehY",
        "outputId": "83339d36-ccdf-479f-d8c9-a01222fd90af"
      },
      "execution_count": null,
      "outputs": [
        {
          "output_type": "error",
          "ename": "SyntaxError",
          "evalue": "ignored",
          "traceback": [
            "\u001b[0;36m  File \u001b[0;32m\"<ipython-input-10-d3c7bd1eadc0>\"\u001b[0;36m, line \u001b[0;32m1\u001b[0m\n\u001b[0;31m    print('I'm so happy to be here!')\u001b[0m\n\u001b[0m             ^\u001b[0m\n\u001b[0;31mSyntaxError\u001b[0m\u001b[0;31m:\u001b[0m invalid syntax\n"
          ]
        }
      ]
    },
    {
      "cell_type": "code",
      "source": [],
      "metadata": {
        "id": "Su3e7GK1RvYK"
      },
      "execution_count": null,
      "outputs": []
    },
    {
      "cell_type": "code",
      "source": [
        "print(\"I'm so happy to be here\")"
      ],
      "metadata": {
        "colab": {
          "base_uri": "https://localhost:8080/"
        },
        "id": "AzvGHX7QMiyh",
        "outputId": "ef35510d-2ff1-49e3-a673-91c666994313"
      },
      "execution_count": null,
      "outputs": [
        {
          "output_type": "stream",
          "name": "stdout",
          "text": [
            "I'm so happy to be here\n"
          ]
        }
      ]
    },
    {
      "cell_type": "markdown",
      "source": [
        "# **String Functions**\n",
        "\n",
        "We can use built-in functions to perform basic operations on strings. For example:\n",
        "\n",
        "> * `len(string)` = count the length of a string \n",
        "> * `string.upper()` = return a lowercase version of a string \n",
        "> * `string.lower()` = return an uppercase version of a string \n",
        "> * `string.title()` = return a title case version of a string \n",
        "> * `string.strip()` = strip all whitespace from a string \n",
        "> * `string.rstrip()` = strip all trailing whitespace from a string \n",
        "> * `string.lstrip()` = strip all leading whitespace from a string\n",
        "\n",
        "*You can find a more complete list of string methods/functions [here](https://www.geeksforgeeks.org/python-string-methods/)*\n",
        "\n",
        "\n",
        "### **For example:**\n",
        "\n"
      ],
      "metadata": {
        "id": "3QNH-A0SNDCy"
      }
    },
    {
      "cell_type": "code",
      "source": [
        "# Print a lower case version of the string using .lower()\n",
        "\n",
        "print('KIWI'.lower())"
      ],
      "metadata": {
        "colab": {
          "base_uri": "https://localhost:8080/"
        },
        "id": "hjWw19TnOC1K",
        "outputId": "598e1644-a9c6-4932-cfc6-364243f523f4"
      },
      "execution_count": null,
      "outputs": [
        {
          "output_type": "stream",
          "name": "stdout",
          "text": [
            "kiwi\n"
          ]
        }
      ]
    },
    {
      "cell_type": "code",
      "source": [
        "# Count the length of a string using len()\n",
        "\n",
        "len('kiwi')"
      ],
      "metadata": {
        "colab": {
          "base_uri": "https://localhost:8080/"
        },
        "id": "A2OfSnUmOHfD",
        "outputId": "e022b6e5-b177-41f5-92d2-044beec04bbd"
      },
      "execution_count": null,
      "outputs": [
        {
          "output_type": "execute_result",
          "data": {
            "text/plain": [
              "4"
            ]
          },
          "metadata": {},
          "execution_count": 13
        }
      ]
    },
    {
      "cell_type": "code",
      "source": [
        "# Remove the whitespace from the front of a sentence using .lstrip()\n",
        "\n",
        "'    look at how the whitespace in front of these words goes away!'.lstrip()"
      ],
      "metadata": {
        "id": "mh8pg8YpR0WZ",
        "outputId": "0fae8b52-577d-4301-884e-2bc52a9802b9",
        "colab": {
          "base_uri": "https://localhost:8080/",
          "height": 35
        }
      },
      "execution_count": null,
      "outputs": [
        {
          "output_type": "execute_result",
          "data": {
            "text/plain": [
              "'look at how the whitespace in front of these words goes away!'"
            ],
            "application/vnd.google.colaboratory.intrinsic+json": {
              "type": "string"
            }
          },
          "metadata": {},
          "execution_count": 19
        }
      ]
    },
    {
      "cell_type": "markdown",
      "source": [
        "**Your Turn**\n",
        "\n",
        "Save a string to a variable and try some of the functions listed above on your variable. Take note that `len()` requires putting the variable or string inside the brackets `(string)`, whereas the other functions require putting the variable or string first and typing the .function() afterwards."
      ],
      "metadata": {
        "id": "qGnAZVeQOZl3"
      }
    },
    {
      "cell_type": "markdown",
      "source": [
        "\n",
        "\n",
        "---\n",
        "\n"
      ],
      "metadata": {
        "id": "7y9FjK08PlOR"
      }
    },
    {
      "cell_type": "markdown",
      "source": [
        "# **Unpacking Strings**\n",
        "\n",
        "Strings might look like sentence or phrases to us, and we can understand the differences between letters, punctuation, and whitespace. But computationally these are all variably equal **characters**, and as such a string in Python will be as long as the number of characters. \n",
        "\n",
        "For example, note how the length of the following two strings is different, even though the phrase is identical. Can you see why? "
      ],
      "metadata": {
        "id": "8Krj-uj5PnVC"
      }
    },
    {
      "cell_type": "code",
      "source": [
        "# Version 1\n",
        "len('underneath it all')"
      ],
      "metadata": {
        "colab": {
          "base_uri": "https://localhost:8080/"
        },
        "id": "pBcB5-ItP2Ea",
        "outputId": "65070856-42b4-4355-f407-892a215e703e"
      },
      "execution_count": null,
      "outputs": [
        {
          "output_type": "execute_result",
          "data": {
            "text/plain": [
              "17"
            ]
          },
          "metadata": {},
          "execution_count": 14
        }
      ]
    },
    {
      "cell_type": "code",
      "source": [
        "# Version 2\n",
        "len('underneath it all ')"
      ],
      "metadata": {
        "colab": {
          "base_uri": "https://localhost:8080/"
        },
        "id": "nBbJVqjKP4jK",
        "outputId": "cec66e00-19c5-473d-8cd7-8335997a6cbe"
      },
      "execution_count": null,
      "outputs": [
        {
          "output_type": "execute_result",
          "data": {
            "text/plain": [
              "18"
            ]
          },
          "metadata": {},
          "execution_count": 15
        }
      ]
    },
    {
      "cell_type": "markdown",
      "source": [
        "Punctuation also matters, compare these two examples, why is the first version longer than the second? "
      ],
      "metadata": {
        "id": "TewNwKv0Qz0u"
      }
    },
    {
      "cell_type": "code",
      "source": [
        "len(\"I can't even\")"
      ],
      "metadata": {
        "id": "VHvWorwGQ4kE",
        "outputId": "27b1baf3-36be-465f-f901-0c1b176b69a0",
        "colab": {
          "base_uri": "https://localhost:8080/"
        }
      },
      "execution_count": null,
      "outputs": [
        {
          "output_type": "execute_result",
          "data": {
            "text/plain": [
              "12"
            ]
          },
          "metadata": {},
          "execution_count": 16
        }
      ]
    },
    {
      "cell_type": "code",
      "source": [
        "len(\"I cant even\")"
      ],
      "metadata": {
        "id": "nMiqR8EfQ7OB",
        "outputId": "bd5f33f0-c431-44b3-b570-5f108dacf54a",
        "colab": {
          "base_uri": "https://localhost:8080/"
        }
      },
      "execution_count": null,
      "outputs": [
        {
          "output_type": "execute_result",
          "data": {
            "text/plain": [
              "11"
            ]
          },
          "metadata": {},
          "execution_count": 17
        }
      ]
    }
  ]
}