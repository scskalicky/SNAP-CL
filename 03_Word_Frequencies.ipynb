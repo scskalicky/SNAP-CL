{
  "nbformat": 4,
  "nbformat_minor": 0,
  "metadata": {
    "colab": {
      "private_outputs": true,
      "provenance": [],
      "authorship_tag": "ABX9TyMzhVj3uZAekvUn+zKR2FwV",
      "include_colab_link": true
    },
    "kernelspec": {
      "name": "python3",
      "display_name": "Python 3"
    },
    "language_info": {
      "name": "python"
    }
  },
  "cells": [
    {
      "cell_type": "markdown",
      "metadata": {
        "id": "view-in-github",
        "colab_type": "text"
      },
      "source": [
        "<a href=\"https://colab.research.google.com/github/scskalicky/SNAP-CL/blob/main/03_Word_Frequencies.ipynb\" target=\"_parent\"><img src=\"https://colab.research.google.com/assets/colab-badge.svg\" alt=\"Open In Colab\"/></a>"
      ]
    },
    {
      "cell_type": "markdown",
      "source": [
        "# **Word Frequency and Tokenisation**\n",
        "\n",
        "One of the most basic pieces of information we can ask from a text is the distribution of differnt words in a text. \n",
        "\n",
        "To do so, we first need to understand how to separate a text into words. Remember, since Python sees any string as a sequence of characters (including whitespace and punctuation), this sequence does **not** understand words in the way that we do. \n",
        "\n",
        "We must therefore think of ways to split strings into separate words.\n",
        "\n",
        "\n",
        "\n"
      ],
      "metadata": {
        "id": "SibtniHHnJwT"
      }
    },
    {
      "cell_type": "code",
      "execution_count": null,
      "metadata": {
        "id": "zfnLXiVnnDaF"
      },
      "outputs": [],
      "source": []
    }
  ]
}